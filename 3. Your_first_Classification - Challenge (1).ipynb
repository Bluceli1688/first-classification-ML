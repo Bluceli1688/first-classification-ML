{
 "cells": [
  {
   "cell_type": "markdown",
   "metadata": {
    "id": "PR_fJ-VKmqpD"
   },
   "source": [
    "![Emil](data:image/png;base64,iVBORw0KGgoAAAANSUhEUgAAAbYAAABzCAMAAADDhdfxAAAAyVBMVEX////mDwUbGiHlAAAAAADmDQH5zszpS0npNC/+7ezvcm4ZGCAAAA4AAAn97+71qaYPDhfb29yenqDT09SzsrRfX2PZ2doVFBzwdnPnJyPwjIuMjI++vr4NCxXxgX7xhYKVlZf72tnt7e4EABD29vbk5OUzMjf4w8DLy8zw8PA8O0CpqatWVlr+9vX4ycdIR0spKC54eHtmZmntYV2Af4IiISdPT1PznpzpPTn3ubb72NdvbnH1rKrnHBTylJHuamXrSUTsYV7rVVIDzG+MAAARjUlEQVR4nO2dC1PiPBfHkQaVbeuWa1Rat0LBclEQAS+ou4/f/0O9Sdpcm3KtOvj2P7MzKw1pk19PcnJyWgqFXLlyfaXK7x8nn66P8+PvbufP0vOR8TU6/+6W/iQ9GqWjL1HJ+Lj97sb+GN18FTUk4893t/bH6Mn4MmrI3q6/u7k/RHdfaGy5uWWm9y80NoTt47vb+0N0/rXYnnKnJBP9+lpsp+XvbvDPUI7tIJVjO0jl2A5SObaDVI7tIJVjO0jl2A5SObaDVI7tIJVjO0jl2A5SObaDVI7tIJVjO0jl2A5SObaDVI7tIJVjO0jl2A5Sm2ArrcoQ3ypfL8eWkVZio7xO//335/Lx8fX5+fia6ub5+fHx8u/J2zbwcmwZKQ0bIXbxcf7n9fjs7DY9Te729uz4/fxpQ3KrsdUasabt7Bv6s6THVjLeTs6fr8ubZjWeXb//2wTcamw+cCKBWhZN+8nSYjPeXrdP1r/7a6ydJ1djq9rFSDm2ddJhKx2d7VTXy1pwObaMpMNm3Oxa28vT6pEyx5aRNNhKb3sk6r+vNLgcW0bSYbvYp8K7ixXccmwZKRXb8bks7KM8/xI/+fWIPjq7Qv+7fLzhTuf1igcdc2wZKRXblRINwQ8UKh+9Ic/lmP7x7536MWfp3HJsGWkFNrnDMbZSSS6HQL3ExfDy/E9sceXU+S3HlpGywkbIvcWvHrlO8ydzbBkpQ2yokPEc1fo7xdz2w1ZxW9MBUqNVb2bcDXp1Q3foD92wslHRemuzorghru/7VbcWbFLxEJX1lbKZYkMGF3P70HPbA1tQXxRty4NIjgXgwO+m1lMf0eCm0onBLCXo6dJvjHitzdZ47gFg2cAqDmY1qZhy7oo/nndQUQA683GLnNSnRRPh1dr9YA6AbaGKnV7D7avH6bW30P/bw8XcAhYuC3szoVeyxYa4RePki36Y3B3bcAAcs8hkQnvSSgs4D1lssyUfaAIvPlCVDyzjb3iAgq4sHRua7GyW3WjyoCmoi1+uLE2xqO0sEdWxFRdV7hx30ekIhR3Qqyrg4nNYi6DgTnijTdixlqzFGWNDYM7S6t0DW3cEYFERAufq62nTtsKBfKBlxd91GtLn/QlUPq92OqZ8Og8MC378fVvEVoVKUdNCF7aIawSSYTYbwFGbAQbSTVAA8aWMAl9pNKqYdkzW2I6MX6RevVeyI7aa56nQohb7+opGcd+Ynnyvj1k3AMlSXUA/jqwwuAdm4mwmqOqwTTVFoV0f6bDVLV07ILjXYIPjKUgWtZufhK0URzQftFsLO2Fzk6ZGe/JeWxHDYEuDYc1jPYxMR9A97U0QDViNZIdhWT0zgW1k60qa9pzWKGDT3QxRfT3B36Dnhqpdkg/n7c/BdmQ8kYq1zuRO2GowhRouOdNV1O7F34Bjbf1oyJuKxQdQ+nSpRYFp0G5m2BppRdkFcmwz/c1ATjzg1p9eCqsz/SRsR5E3Wc4KW3vAbzvkQyLZgnNiD3U1LZn5iINhj+M3TeFAjY2RBEdd7jjTTNgIw1ZVisJEUY5ttoqwNWL2pmCDyD0RqwXuZ2E7Iae/0Exuu2C7Z82F9qJVr1Vcv+GwOQKauoVASIcjcTCsdMTuFKanGT0AcN+1PaGTIPK8TQd4sr1TbE2BqOkBbzIxbUsuyrDJNwNaxUCJMR82pHKe3Vs0RgPe3qLXWIOtJCrCJn1mvJVxTLKUUPQeu7+6nbztsYUWbV2nxzzHSoP6hEVrqqlJHfbk6smBJT/ACpPPZqzqIrQGfq1Zabr3E0vsY4qtIfQmbNSb3W6l1urZEo4YW9sUTN3q9AaLcQ/awmc2bZyAzfQaIR4V+rWlxxcClVXYHpW48W/02T/5IzyJXeuS8J6jCjLBxoZIYRxBarHWaUMq1IBMwL80Fu0ATpiV1uiYS3quzXvdmzOT7LdEdyLGVuOev71gcZvAF2gwbEt+MzjgPiRXVfPnwi0yCFRspjBWDHl7h6uwbarbckJRRFnnk2yPLaSX643lSBDj5um8SWW6wmrLkwYI6QE/Pi2cB8JfyLoX4hlDgVuM7Z6NurZk8mGRc4uxVfjJgRCJEe4+Np7zT6TlIZuuydoy821SptdMsE3jqzXnyhwWjKkZAk1kL5AHPqn2+ADraVq0g6eXgK6T+e0fK0z0J/vAW8hnD4WVRldqBvrAV2qlRWGxoNQqxQSa9PLhpPCZ2G4ywcZWYC21tJs0KEF0ZQwn1GUcyesgSNdKzFPpYPursGGLm2OsGTeuunQBiVuq0GK3SIStwnwXNd5WcNmgHM9uHJt8AdQPNvHSTZtLkknqcCbYaNeYMOEwBj3RSlSxUYn2fpvVJFJCGtIxkqzx6uljb1dZt7Hh1EpcQHvOMJHrZgsFZ6EW5RG3TnRGttxWrJ3GBIhPos3c+vX6exc9X4u5Q5lgY/POOKyFkmohjR/BhW7/g42ScffTOR22OjJt6qlYLbFzksYmjHQRtgYNocHkNhJzRyNszNI1/hMbz01I/maEFReZjh+m00xLb91ZD78ZuUywsYkYgoSo2ZhF3VZAlQHvi33uNJrxesk0o16j3WQ1JRZWskoeMyPYWChmkNh84UZLsPX1URvKwxbLMmziEkWsktwl2T4ohVMTrsoZYlukx7W4gG7F3aWtjMyGLqLRREjrtMgBaoXOiEAcaxZ8VGyGirDRSUntX6y+hI0ty7UxnS6zTFfEZimzoLse28pHo9IUxVDQVx8zwxbMU4Kv67HJDiKjg9xOepqoX6g92z45If2W5Wv6lxoNwRasXIFI2ELqzHi6NWaf3ioR1J2xlYzTXURYl/DXH26zwlbcCJt23425GmTTjY6RC+w6RpUST7ofW6FptWUyGrtgpihj07pE1L4ibHRaMrU7u3RgjvYrdsVWMl7PdlG5/PL+QcAZJ2cZYUuGcTfG1qVzGL7Fu/FGKOlw6iDgnWfaGfEGKS23DbYNrC0eT/WzMDP4yMJ3xrbPuu34AWfbGR/Xt1lESTa0Nn3eDaWDh794PjdJ4Jn6APjupp5jHKPoD1ZgY5FOBZtmbgu0g6RmGYPLsgvda5Dcc7l982ZEvmiS2vbYBsxd7Fip0s9tzPXCg2HcM9GyiXor6C/m48WhlmCwYjHYnUguCZ134Ti5AHElbDUa7O8kVxXC7iD4TmyFMslKziYFiA77eN2WLn11fMCr0GSRKKDCBjvQprFL5jgu6AkHyQpr9PoibIuU1AesFtsL6kpX4muuk8dPCdQMsN1cnZYuTh7XPqN4/fsJOSSnccHb1MeltsZGA0o8RrWFmJM4dKOaaRSKjZJDuixm0yNbUmsinb6MjQW7OonJrT+no0Q0EtD7hMYdJfEVPvlzb2x35JFs/O/XyucUby+PsPuPS56T1fbZg6EfJbfGxvYr9G7HatGGwtEyHiPj4GyFHYj70wT0OxxNNVEfG7FteRc8GZP0lZgkD5okp8wmnb9jA98X2yN7GrtkXKwwuLMTZlwl4ynigl+koNkn3RQbmwLoNKSmyOFDLT9SKy3RlU4aPBxPg84UAM1S4V4FG7GSM5arhJLZkrrojeSSoansALA4P0wQLoxYyCy6UfbE9opgxMtu/DR3an/fnhh0fY59/ydumKfJ9KANsfGYPsv/6Kjmdg+oR6Kb56Mi1INTrcKXN3GKFqu8PWHDm6/UxlNR4o2bBdtTsKVhstLjmw0RNjabFr2FMtqzFBOzE13dfthwXjEa9G7u7n6f4v+epD1i+k6oXt7d3b0TH5L/AmnS3DbEJoQo2GfqfRqyHNZ5aoXCFhnpMmZTTfkAWXjHYlFQ05NvFGF/OsbmcvhAyC+ve8IWUezl8lwhayxyC3g6lxOb7M7Y3nCpB+PIeIg7GRue8arvmjI+dhkz/WOwdPLC9tjYRCZsb/RZEofTE7mFDptokpMQ6xRmOlEXcg5z6YDo7XPUUFy7BUuBNN12FnLKPDAj6fzd+ljKhoyxcR+l6EB+weGAkTeteNDYFZvxt0CyioXfyLsxaD5WQsjYjHf216VB05IL22PjPSbk6PMdRwiGdLrp3vP4v25zm32ZWwhuLy8pj5IdcQnBhz4TjOOu7A7nYtoXxRaK2T6ebYMisG3phmDxUiFxy7S9mdtsVly/J+TtWnQo2BFbyXgpkN8HNnAXXz/f4MnqCtmU3iv5iFKBCi+vx9jkkPN5Sg9ti63Lm+bd17pd8mxQn08ppt1b1sMwHI6KDIep8c24auJgKAahauJzIPJ2iit8x7F6jVnrfjGX0+hYkoeS+6gJxbFQwFTgbnYQXJybx8vzlKRdsb1dky4nk9QzcjSeriPj0/7cefnUIMPnJSr43y3+QvR9rP+2xMZjIsgArMkksjlXyHWDnpre2hmtqFDKaJXXEMKp1ISHkZioD52O5alZqwxbf6F9OEGHrS8P2ErSrMnjJztb212BGNEzglLCTsYD+pvl9qvY3khaJPllWuMSGR1av73Ex5IJrmtelSaNadCMYwotxe0TJU94SQl5P6YtjqbCKGl25ChH24G6UwniKVXdni5Tn2c+CJtKtWJ6taYwK+w8t50+Pr6/EesiUXySW4KM6un9MqlfyAwLxBeJsv/LFyXjv+jQybbrNjEtjfROhK0wTeUGzTWPCze5fyBHfJs8ucpRDdb19B0M5eV2xG2usTcIpywLgd9WYVGLWKG2+35btATD1kVSxckjaxellFQFdLwc57JiHwZZ3xE/tCU2IXFcxFbQPDJE1JmvfeaWD01KghffN1efUcT+g46b06MwxATGIPnonee4cig5VqWnv//kxxz32N0mXYyGPDzFkYTk8oqXMuHR9PYCF3xZ9zvea98nORHvXR549RNP8xWxZzlKJnGoGrLVLJAP+PxAMtxZm1uJ01mTblX3WGKhPgDCYwOmBxrtghYbfm4u2Q4IxtJAvyc2Mvjdvn884NRwXWY4Y4HnvvL5x1/ss2gfa9scW3ch3LtCvLw2kp4BJq2d6PIjVVUgNInU5JCKbeoPELWXIgqcLgWmbYQ6+opiuEF96gC743lexwbzZVhQN264wrFcL2pGryqvYEB8XUls8YHUzK24j7G5FchCOvWNFVHBZ1bweXVG0fq3twb+HHi4qyF0xPBS4DY6tgOx/4WOORYYVzfbExjRh6iV4FjADujph9MivhCILgT5r14Df13/7DZWO/Rn99P7WTWMrooZuboXGMT1mriFaKk3Vh/dLqQ9eO7S58u9lDzJWCUWGFn1PiZc8O0uLniz5lWgm7x0tzucDnrzSW8wmskzV6U6GkyKnc583lu0wg3eDUHUblYiqV/oxp+nviujW1+Oe715rzeeVptSXc21J+dJjUlPt+uieueoFbjeZE0Vel3KbRnQhqQ8cSNw+w/bUXn1W+swDeMKg3u5WvcC103fldyvdPu6rgm6zTCsVNZPaVmp3660dzkbjWzCnn5MCLr7tWJ1niTdb1sNI9oAKOnzEHbCdmAKVALsXQ3OaNNRYTutTW8trWVGy21Q8EdiC4ammmzMIgSqX5GV8p9v2FfDng2VXYiQRcPS9wL3U45tLwXuGL8BiD/Ci9VkkVA4+ZwxMse2l0IaIoEeX33VTb7r7X/SiXNs+4hH3Uy0kMSrhHZ9xMOgugBMNsqx7aOKuGNmAzAHQAxfpb1can/l2PaSr7xPRvrL0z3Nlo1ybPupkYw5M/MrbvRO0J2UY9tP/UHa/rYz/yTnHyvHtqf6A0v7VJA3+URqOba9Fcy0m2ij1dkSeyrHtr/Q6k3eRHOAtyqfLAPl2LJQ7R7vkzoOhI5nATDaZAN3L+XYslEQVmeNxmDQWLbqX/Bbjzm2LBUEnxSDVJVjO0jl2A5SObaDVI7tIJVjO0idfzG23X5jOJei96/F9u+72/tDpHsz1idi+/vd7f0hKut+ZeHzsD1/d3t/ii6/0NyMpz1+0TuXqFvN04OfRc14WX89uTYTftNS8gdPspfBfnE2Vxa6fX3a6SW7W+riKl+zZayX40/XS75iy/X/rf8BQ/rgVIRtUc4AAAAASUVORK5CYII=)"
   ]
  },
  {
   "cell_type": "markdown",
   "metadata": {
    "id": "wMVXwOYQp5Ck"
   },
   "source": [
    "# The Titanic dataset\n",
    "\n",
    "For your first **classification** task of the week, you'll work on a classic ML dataset - Titanic passengers!\n",
    "\n",
    "The model we'll be using is **Logistic Regression**. \\\n",
    "\n",
    "We won't dwell too much today on why this model is best suited, but just remember that we're trying to classify something (whether a passenger survived or not), which is what **Logistic Regression** does."
   ]
  },
  {
   "cell_type": "markdown",
   "metadata": {
    "id": "Linrkc8YqtFI"
   },
   "source": [
    "## Import the data\n",
    "\n",
    "Import the Titanic dataset using this link: https://wagon-public-datasets.s3.amazonaws.com/Machine%20Learning%20Datasets/ML_Titanic_dataset.csv\n",
    "\n",
    "\n",
    "Load it into a `df`variable.\n"
   ]
  },
  {
   "cell_type": "markdown",
   "metadata": {
    "id": "Kc2-I70Xmdeu"
   },
   "source": [
    "<details>\n",
    "    <summary>Tips 💯</summary>\n",
    "    \n",
    "Same as in the previous challenge, you can download the file and upload it to Google Colab, or you can directly but the download link inside the `pd.read_csv()` function!\n",
    "    \n",
    "    \n",
    "</details>\n"
   ]
  },
  {
   "cell_type": "code",
   "execution_count": 16,
   "metadata": {
    "ExecuteTime": {
     "end_time": "2024-02-20T00:28:18.761507Z",
     "start_time": "2024-02-20T00:28:18.555175Z"
    },
    "id": "nptJfr7doA6L"
   },
   "outputs": [
    {
     "name": "stdout",
     "output_type": "stream",
     "text": [
      "   PassengerId  Survived  Pclass  \\\n",
      "0            1         0       3   \n",
      "1            2         1       1   \n",
      "2            3         1       3   \n",
      "3            4         1       1   \n",
      "4            5         0       3   \n",
      "\n",
      "                                                Name     Sex   Age  SibSp  \\\n",
      "0                            Braund, Mr. Owen Harris    male  22.0      1   \n",
      "1  Cumings, Mrs. John Bradley (Florence Briggs Th...  female  38.0      1   \n",
      "2                             Heikkinen, Miss. Laina  female  26.0      0   \n",
      "3       Futrelle, Mrs. Jacques Heath (Lily May Peel)  female  35.0      1   \n",
      "4                           Allen, Mr. William Henry    male  35.0      0   \n",
      "\n",
      "   Parch            Ticket     Fare Cabin Embarked  Unnamed: 12  Unnamed: 13  \n",
      "0      0         A/5 21171   7.2500   NaN        S          NaN          NaN  \n",
      "1      0          PC 17599  71.2833   C85        C          NaN          NaN  \n",
      "2      0  STON/O2. 3101282   7.9250   NaN        S          NaN          NaN  \n",
      "3      0            113803  53.1000  C123        S          NaN          NaN  \n",
      "4      0            373450   8.0500   NaN        S          NaN          NaN  \n"
     ]
    }
   ],
   "source": [
    "import pandas as pd\n",
    "file_path = r'C:\\Users\\dell\\Desktop\\ML_Titanic_dataset.csv'\n",
    "df= pd.read_csv(file_path)\n",
    "print(df.head())\n"
   ]
  },
  {
   "cell_type": "markdown",
   "metadata": {
    "id": "g0GhGR1QrMsB"
   },
   "source": [
    "## Inspect the data\n",
    "\n",
    "Have a look at the imported dataset! Try to scope out potential features and targets."
   ]
  },
  {
   "cell_type": "code",
   "execution_count": 30,
   "metadata": {
    "ExecuteTime": {
     "end_time": "2024-02-20T00:28:58.644188Z",
     "start_time": "2024-02-20T00:28:58.619426Z"
    },
    "id": "y1oMFxlYoFEY"
   },
   "outputs": [
    {
     "name": "stdout",
     "output_type": "stream",
     "text": [
      "<class 'pandas.core.frame.DataFrame'>\n",
      "RangeIndex: 891 entries, 0 to 890\n",
      "Data columns (total 13 columns):\n",
      " #   Column       Non-Null Count  Dtype  \n",
      "---  ------       --------------  -----  \n",
      " 0   PassengerId  891 non-null    int64  \n",
      " 1   Survived     891 non-null    int64  \n",
      " 2   Pclass       891 non-null    int64  \n",
      " 3   Name         891 non-null    object \n",
      " 4   Sex          891 non-null    object \n",
      " 5   Age          714 non-null    float64\n",
      " 6   SibSp        891 non-null    int64  \n",
      " 7   Parch        891 non-null    int64  \n",
      " 8   Ticket       891 non-null    object \n",
      " 9   Fare         891 non-null    float64\n",
      " 10  Cabin        204 non-null    object \n",
      " 11  Embarked     889 non-null    object \n",
      " 12  Unnamed: 13  1 non-null      float64\n",
      "dtypes: float64(3), int64(5), object(5)\n",
      "memory usage: 90.6+ KB\n",
      "None\n",
      "--------------------------------------------\n",
      "PassengerId      0\n",
      "Survived         0\n",
      "Pclass           0\n",
      "Name             0\n",
      "Sex              0\n",
      "Age            177\n",
      "SibSp            0\n",
      "Parch            0\n",
      "Ticket           0\n",
      "Fare             0\n",
      "Cabin          687\n",
      "Embarked         2\n",
      "Unnamed: 13    890\n",
      "dtype: int64\n",
      "--------------------------------------------\n",
      "       PassengerId    Survived      Pclass         Age       SibSp  \\\n",
      "count   891.000000  891.000000  891.000000  714.000000  891.000000   \n",
      "mean    446.000000    0.383838    2.308642   29.699118    0.523008   \n",
      "std     257.353842    0.486592    0.836071   14.526497    1.102743   \n",
      "min       1.000000    0.000000    1.000000    0.420000    0.000000   \n",
      "25%     223.500000    0.000000    2.000000   20.125000    0.000000   \n",
      "50%     446.000000    0.000000    3.000000   28.000000    0.000000   \n",
      "75%     668.500000    1.000000    3.000000   38.000000    1.000000   \n",
      "max     891.000000    1.000000    3.000000   80.000000    8.000000   \n",
      "\n",
      "            Parch        Fare  Unnamed: 13  \n",
      "count  891.000000  891.000000          1.0  \n",
      "mean     0.381594   32.204208          2.0  \n",
      "std      0.806057   49.693429          NaN  \n",
      "min      0.000000    0.000000          2.0  \n",
      "25%      0.000000    7.910400          2.0  \n",
      "50%      0.000000   14.454200          2.0  \n",
      "75%      0.000000   31.000000          2.0  \n",
      "max      6.000000  512.329200          2.0  \n",
      "--------------------------------------------\n",
      "--------------------------------------------\n",
      "PassengerId      0\n",
      "Survived         0\n",
      "Pclass           0\n",
      "Name             0\n",
      "Sex              0\n",
      "Age            177\n",
      "SibSp            0\n",
      "Parch            0\n",
      "Ticket           0\n",
      "Fare             0\n",
      "Cabin          687\n",
      "Embarked         2\n",
      "Unnamed: 13    890\n",
      "dtype: int64\n"
     ]
    }
   ],
   "source": [
    "print(df.info())\n",
    "print(\"--------------------------------------------\")\n",
    "print(df.isnull().sum())\n",
    "print(\"--------------------------------------------\")\n",
    "print(df.describe())\n",
    "empty_cols = df.columns[df.isnull().all()]\n",
    "df= df.drop(columns=empty_cols)"
   ]
  },
  {
   "cell_type": "markdown",
   "metadata": {
    "id": "8hCxEjbcruUP"
   },
   "source": [
    "## Pick X and y\n",
    "\n",
    "Ok, now that you've visualized the DataFrame, let's create **X** and **y**.\n",
    "\n",
    "\n",
    "Try to model whether a passenger **Survived** or **not** based on the following features:\n",
    "\n",
    "- `Pclass`: The class they were in\n",
    "- `SibSp`: The number of siblings or spouses on the Titanic\n",
    "- `Parch`: The number of parents or children on the Titanic\n",
    "- `Fare`: How much they paid for their ticket"
   ]
  },
  {
   "cell_type": "code",
   "execution_count": 44,
   "metadata": {
    "ExecuteTime": {
     "end_time": "2024-02-20T00:31:42.200054Z",
     "start_time": "2024-02-20T00:31:42.191043Z"
    },
    "id": "VgteHZjhoJnC"
   },
   "outputs": [],
   "source": [
    "X = df[['Pclass','SibSp','Parch','Fare']]\n",
    "y =df['Survived']\n"
   ]
  },
  {
   "cell_type": "markdown",
   "metadata": {
    "id": "uUarGMHjtALn"
   },
   "source": [
    "## Train Test Split\n",
    "\n",
    "Remember when we said that splitting the data is **one of the most important things in Machine Learning?**\n",
    "\n",
    "Use Sklearn's `train_test_split` function to split your data into `X_train`, `X_test`, `y_train` and `y_test`.\n",
    "\n",
    "\n",
    "- Use `random_state=0` to compare your final results with your buddy's results.\n"
   ]
  },
  {
   "cell_type": "code",
   "execution_count": 46,
   "metadata": {
    "ExecuteTime": {
     "end_time": "2024-02-20T00:34:46.604138Z",
     "start_time": "2024-02-20T00:34:46.585345Z"
    },
    "id": "hhxQdRzio5Ap"
   },
   "outputs": [],
   "source": [
    "from sklearn.model_selection import train_test_split\n",
    "X_train,X_test,y_train,y_test = train_test_split(X,y,test_size=0.2,random_state=0)\n"
   ]
  },
  {
   "cell_type": "markdown",
   "metadata": {
    "id": "eFwMRMsTsmph"
   },
   "source": [
    "## Normalization\n",
    "\n",
    "Now we need to normalize our features.\n",
    "\n",
    "Use Sklearn's `Standard Scaler` to bring all of the features to the same scale.\n",
    "\n",
    "Save your scaled features to two new variables named `X_train_scaled`and `X_test_scaled`.\n"
   ]
  },
  {
   "cell_type": "code",
   "execution_count": 48,
   "metadata": {
    "ExecuteTime": {
     "end_time": "2024-02-20T00:37:19.003471Z",
     "start_time": "2024-02-20T00:37:18.991208Z"
    },
    "id": "jx_F1nazodFs"
   },
   "outputs": [],
   "source": [
    "from sklearn.preprocessing import StandardScaler\n",
    "Scaler = StandardScaler()\n",
    "X_train_scaled = Scaler.fit_transform(X_train)\n",
    "X_test_scaled = Scaler.transform(X_test)"
   ]
  },
  {
   "cell_type": "markdown",
   "metadata": {
    "id": "6jTWkFBatcda"
   },
   "source": [
    "## Modelling\n",
    "\n",
    "Now we can actually run our ML model!\n",
    "\n",
    "Import, instantiate and fit a **Logistic Regression** model on the training data.\n"
   ]
  },
  {
   "cell_type": "code",
   "execution_count": 50,
   "metadata": {
    "ExecuteTime": {
     "end_time": "2024-02-20T00:39:02.873610Z",
     "start_time": "2024-02-20T00:39:02.856933Z"
    },
    "id": "hd3t2Gn5pARH"
   },
   "outputs": [
    {
     "data": {
      "text/html": [
       "<style>#sk-container-id-1 {\n",
       "  /* Definition of color scheme common for light and dark mode */\n",
       "  --sklearn-color-text: black;\n",
       "  --sklearn-color-line: gray;\n",
       "  /* Definition of color scheme for unfitted estimators */\n",
       "  --sklearn-color-unfitted-level-0: #fff5e6;\n",
       "  --sklearn-color-unfitted-level-1: #f6e4d2;\n",
       "  --sklearn-color-unfitted-level-2: #ffe0b3;\n",
       "  --sklearn-color-unfitted-level-3: chocolate;\n",
       "  /* Definition of color scheme for fitted estimators */\n",
       "  --sklearn-color-fitted-level-0: #f0f8ff;\n",
       "  --sklearn-color-fitted-level-1: #d4ebff;\n",
       "  --sklearn-color-fitted-level-2: #b3dbfd;\n",
       "  --sklearn-color-fitted-level-3: cornflowerblue;\n",
       "\n",
       "  /* Specific color for light theme */\n",
       "  --sklearn-color-text-on-default-background: var(--sg-text-color, var(--theme-code-foreground, var(--jp-content-font-color1, black)));\n",
       "  --sklearn-color-background: var(--sg-background-color, var(--theme-background, var(--jp-layout-color0, white)));\n",
       "  --sklearn-color-border-box: var(--sg-text-color, var(--theme-code-foreground, var(--jp-content-font-color1, black)));\n",
       "  --sklearn-color-icon: #696969;\n",
       "\n",
       "  @media (prefers-color-scheme: dark) {\n",
       "    /* Redefinition of color scheme for dark theme */\n",
       "    --sklearn-color-text-on-default-background: var(--sg-text-color, var(--theme-code-foreground, var(--jp-content-font-color1, white)));\n",
       "    --sklearn-color-background: var(--sg-background-color, var(--theme-background, var(--jp-layout-color0, #111)));\n",
       "    --sklearn-color-border-box: var(--sg-text-color, var(--theme-code-foreground, var(--jp-content-font-color1, white)));\n",
       "    --sklearn-color-icon: #878787;\n",
       "  }\n",
       "}\n",
       "\n",
       "#sk-container-id-1 {\n",
       "  color: var(--sklearn-color-text);\n",
       "}\n",
       "\n",
       "#sk-container-id-1 pre {\n",
       "  padding: 0;\n",
       "}\n",
       "\n",
       "#sk-container-id-1 input.sk-hidden--visually {\n",
       "  border: 0;\n",
       "  clip: rect(1px 1px 1px 1px);\n",
       "  clip: rect(1px, 1px, 1px, 1px);\n",
       "  height: 1px;\n",
       "  margin: -1px;\n",
       "  overflow: hidden;\n",
       "  padding: 0;\n",
       "  position: absolute;\n",
       "  width: 1px;\n",
       "}\n",
       "\n",
       "#sk-container-id-1 div.sk-dashed-wrapped {\n",
       "  border: 1px dashed var(--sklearn-color-line);\n",
       "  margin: 0 0.4em 0.5em 0.4em;\n",
       "  box-sizing: border-box;\n",
       "  padding-bottom: 0.4em;\n",
       "  background-color: var(--sklearn-color-background);\n",
       "}\n",
       "\n",
       "#sk-container-id-1 div.sk-container {\n",
       "  /* jupyter's `normalize.less` sets `[hidden] { display: none; }`\n",
       "     but bootstrap.min.css set `[hidden] { display: none !important; }`\n",
       "     so we also need the `!important` here to be able to override the\n",
       "     default hidden behavior on the sphinx rendered scikit-learn.org.\n",
       "     See: https://github.com/scikit-learn/scikit-learn/issues/21755 */\n",
       "  display: inline-block !important;\n",
       "  position: relative;\n",
       "}\n",
       "\n",
       "#sk-container-id-1 div.sk-text-repr-fallback {\n",
       "  display: none;\n",
       "}\n",
       "\n",
       "div.sk-parallel-item,\n",
       "div.sk-serial,\n",
       "div.sk-item {\n",
       "  /* draw centered vertical line to link estimators */\n",
       "  background-image: linear-gradient(var(--sklearn-color-text-on-default-background), var(--sklearn-color-text-on-default-background));\n",
       "  background-size: 2px 100%;\n",
       "  background-repeat: no-repeat;\n",
       "  background-position: center center;\n",
       "}\n",
       "\n",
       "/* Parallel-specific style estimator block */\n",
       "\n",
       "#sk-container-id-1 div.sk-parallel-item::after {\n",
       "  content: \"\";\n",
       "  width: 100%;\n",
       "  border-bottom: 2px solid var(--sklearn-color-text-on-default-background);\n",
       "  flex-grow: 1;\n",
       "}\n",
       "\n",
       "#sk-container-id-1 div.sk-parallel {\n",
       "  display: flex;\n",
       "  align-items: stretch;\n",
       "  justify-content: center;\n",
       "  background-color: var(--sklearn-color-background);\n",
       "  position: relative;\n",
       "}\n",
       "\n",
       "#sk-container-id-1 div.sk-parallel-item {\n",
       "  display: flex;\n",
       "  flex-direction: column;\n",
       "}\n",
       "\n",
       "#sk-container-id-1 div.sk-parallel-item:first-child::after {\n",
       "  align-self: flex-end;\n",
       "  width: 50%;\n",
       "}\n",
       "\n",
       "#sk-container-id-1 div.sk-parallel-item:last-child::after {\n",
       "  align-self: flex-start;\n",
       "  width: 50%;\n",
       "}\n",
       "\n",
       "#sk-container-id-1 div.sk-parallel-item:only-child::after {\n",
       "  width: 0;\n",
       "}\n",
       "\n",
       "/* Serial-specific style estimator block */\n",
       "\n",
       "#sk-container-id-1 div.sk-serial {\n",
       "  display: flex;\n",
       "  flex-direction: column;\n",
       "  align-items: center;\n",
       "  background-color: var(--sklearn-color-background);\n",
       "  padding-right: 1em;\n",
       "  padding-left: 1em;\n",
       "}\n",
       "\n",
       "\n",
       "/* Toggleable style: style used for estimator/Pipeline/ColumnTransformer box that is\n",
       "clickable and can be expanded/collapsed.\n",
       "- Pipeline and ColumnTransformer use this feature and define the default style\n",
       "- Estimators will overwrite some part of the style using the `sk-estimator` class\n",
       "*/\n",
       "\n",
       "/* Pipeline and ColumnTransformer style (default) */\n",
       "\n",
       "#sk-container-id-1 div.sk-toggleable {\n",
       "  /* Default theme specific background. It is overwritten whether we have a\n",
       "  specific estimator or a Pipeline/ColumnTransformer */\n",
       "  background-color: var(--sklearn-color-background);\n",
       "}\n",
       "\n",
       "/* Toggleable label */\n",
       "#sk-container-id-1 label.sk-toggleable__label {\n",
       "  cursor: pointer;\n",
       "  display: block;\n",
       "  width: 100%;\n",
       "  margin-bottom: 0;\n",
       "  padding: 0.5em;\n",
       "  box-sizing: border-box;\n",
       "  text-align: center;\n",
       "}\n",
       "\n",
       "#sk-container-id-1 label.sk-toggleable__label-arrow:before {\n",
       "  /* Arrow on the left of the label */\n",
       "  content: \"▸\";\n",
       "  float: left;\n",
       "  margin-right: 0.25em;\n",
       "  color: var(--sklearn-color-icon);\n",
       "}\n",
       "\n",
       "#sk-container-id-1 label.sk-toggleable__label-arrow:hover:before {\n",
       "  color: var(--sklearn-color-text);\n",
       "}\n",
       "\n",
       "/* Toggleable content - dropdown */\n",
       "\n",
       "#sk-container-id-1 div.sk-toggleable__content {\n",
       "  max-height: 0;\n",
       "  max-width: 0;\n",
       "  overflow: hidden;\n",
       "  text-align: left;\n",
       "  /* unfitted */\n",
       "  background-color: var(--sklearn-color-unfitted-level-0);\n",
       "}\n",
       "\n",
       "#sk-container-id-1 div.sk-toggleable__content.fitted {\n",
       "  /* fitted */\n",
       "  background-color: var(--sklearn-color-fitted-level-0);\n",
       "}\n",
       "\n",
       "#sk-container-id-1 div.sk-toggleable__content pre {\n",
       "  margin: 0.2em;\n",
       "  border-radius: 0.25em;\n",
       "  color: var(--sklearn-color-text);\n",
       "  /* unfitted */\n",
       "  background-color: var(--sklearn-color-unfitted-level-0);\n",
       "}\n",
       "\n",
       "#sk-container-id-1 div.sk-toggleable__content.fitted pre {\n",
       "  /* unfitted */\n",
       "  background-color: var(--sklearn-color-fitted-level-0);\n",
       "}\n",
       "\n",
       "#sk-container-id-1 input.sk-toggleable__control:checked~div.sk-toggleable__content {\n",
       "  /* Expand drop-down */\n",
       "  max-height: 200px;\n",
       "  max-width: 100%;\n",
       "  overflow: auto;\n",
       "}\n",
       "\n",
       "#sk-container-id-1 input.sk-toggleable__control:checked~label.sk-toggleable__label-arrow:before {\n",
       "  content: \"▾\";\n",
       "}\n",
       "\n",
       "/* Pipeline/ColumnTransformer-specific style */\n",
       "\n",
       "#sk-container-id-1 div.sk-label input.sk-toggleable__control:checked~label.sk-toggleable__label {\n",
       "  color: var(--sklearn-color-text);\n",
       "  background-color: var(--sklearn-color-unfitted-level-2);\n",
       "}\n",
       "\n",
       "#sk-container-id-1 div.sk-label.fitted input.sk-toggleable__control:checked~label.sk-toggleable__label {\n",
       "  background-color: var(--sklearn-color-fitted-level-2);\n",
       "}\n",
       "\n",
       "/* Estimator-specific style */\n",
       "\n",
       "/* Colorize estimator box */\n",
       "#sk-container-id-1 div.sk-estimator input.sk-toggleable__control:checked~label.sk-toggleable__label {\n",
       "  /* unfitted */\n",
       "  background-color: var(--sklearn-color-unfitted-level-2);\n",
       "}\n",
       "\n",
       "#sk-container-id-1 div.sk-estimator.fitted input.sk-toggleable__control:checked~label.sk-toggleable__label {\n",
       "  /* fitted */\n",
       "  background-color: var(--sklearn-color-fitted-level-2);\n",
       "}\n",
       "\n",
       "#sk-container-id-1 div.sk-label label.sk-toggleable__label,\n",
       "#sk-container-id-1 div.sk-label label {\n",
       "  /* The background is the default theme color */\n",
       "  color: var(--sklearn-color-text-on-default-background);\n",
       "}\n",
       "\n",
       "/* On hover, darken the color of the background */\n",
       "#sk-container-id-1 div.sk-label:hover label.sk-toggleable__label {\n",
       "  color: var(--sklearn-color-text);\n",
       "  background-color: var(--sklearn-color-unfitted-level-2);\n",
       "}\n",
       "\n",
       "/* Label box, darken color on hover, fitted */\n",
       "#sk-container-id-1 div.sk-label.fitted:hover label.sk-toggleable__label.fitted {\n",
       "  color: var(--sklearn-color-text);\n",
       "  background-color: var(--sklearn-color-fitted-level-2);\n",
       "}\n",
       "\n",
       "/* Estimator label */\n",
       "\n",
       "#sk-container-id-1 div.sk-label label {\n",
       "  font-family: monospace;\n",
       "  font-weight: bold;\n",
       "  display: inline-block;\n",
       "  line-height: 1.2em;\n",
       "}\n",
       "\n",
       "#sk-container-id-1 div.sk-label-container {\n",
       "  text-align: center;\n",
       "}\n",
       "\n",
       "/* Estimator-specific */\n",
       "#sk-container-id-1 div.sk-estimator {\n",
       "  font-family: monospace;\n",
       "  border: 1px dotted var(--sklearn-color-border-box);\n",
       "  border-radius: 0.25em;\n",
       "  box-sizing: border-box;\n",
       "  margin-bottom: 0.5em;\n",
       "  /* unfitted */\n",
       "  background-color: var(--sklearn-color-unfitted-level-0);\n",
       "}\n",
       "\n",
       "#sk-container-id-1 div.sk-estimator.fitted {\n",
       "  /* fitted */\n",
       "  background-color: var(--sklearn-color-fitted-level-0);\n",
       "}\n",
       "\n",
       "/* on hover */\n",
       "#sk-container-id-1 div.sk-estimator:hover {\n",
       "  /* unfitted */\n",
       "  background-color: var(--sklearn-color-unfitted-level-2);\n",
       "}\n",
       "\n",
       "#sk-container-id-1 div.sk-estimator.fitted:hover {\n",
       "  /* fitted */\n",
       "  background-color: var(--sklearn-color-fitted-level-2);\n",
       "}\n",
       "\n",
       "/* Specification for estimator info (e.g. \"i\" and \"?\") */\n",
       "\n",
       "/* Common style for \"i\" and \"?\" */\n",
       "\n",
       ".sk-estimator-doc-link,\n",
       "a:link.sk-estimator-doc-link,\n",
       "a:visited.sk-estimator-doc-link {\n",
       "  float: right;\n",
       "  font-size: smaller;\n",
       "  line-height: 1em;\n",
       "  font-family: monospace;\n",
       "  background-color: var(--sklearn-color-background);\n",
       "  border-radius: 1em;\n",
       "  height: 1em;\n",
       "  width: 1em;\n",
       "  text-decoration: none !important;\n",
       "  margin-left: 1ex;\n",
       "  /* unfitted */\n",
       "  border: var(--sklearn-color-unfitted-level-1) 1pt solid;\n",
       "  color: var(--sklearn-color-unfitted-level-1);\n",
       "}\n",
       "\n",
       ".sk-estimator-doc-link.fitted,\n",
       "a:link.sk-estimator-doc-link.fitted,\n",
       "a:visited.sk-estimator-doc-link.fitted {\n",
       "  /* fitted */\n",
       "  border: var(--sklearn-color-fitted-level-1) 1pt solid;\n",
       "  color: var(--sklearn-color-fitted-level-1);\n",
       "}\n",
       "\n",
       "/* On hover */\n",
       "div.sk-estimator:hover .sk-estimator-doc-link:hover,\n",
       ".sk-estimator-doc-link:hover,\n",
       "div.sk-label-container:hover .sk-estimator-doc-link:hover,\n",
       ".sk-estimator-doc-link:hover {\n",
       "  /* unfitted */\n",
       "  background-color: var(--sklearn-color-unfitted-level-3);\n",
       "  color: var(--sklearn-color-background);\n",
       "  text-decoration: none;\n",
       "}\n",
       "\n",
       "div.sk-estimator.fitted:hover .sk-estimator-doc-link.fitted:hover,\n",
       ".sk-estimator-doc-link.fitted:hover,\n",
       "div.sk-label-container:hover .sk-estimator-doc-link.fitted:hover,\n",
       ".sk-estimator-doc-link.fitted:hover {\n",
       "  /* fitted */\n",
       "  background-color: var(--sklearn-color-fitted-level-3);\n",
       "  color: var(--sklearn-color-background);\n",
       "  text-decoration: none;\n",
       "}\n",
       "\n",
       "/* Span, style for the box shown on hovering the info icon */\n",
       ".sk-estimator-doc-link span {\n",
       "  display: none;\n",
       "  z-index: 9999;\n",
       "  position: relative;\n",
       "  font-weight: normal;\n",
       "  right: .2ex;\n",
       "  padding: .5ex;\n",
       "  margin: .5ex;\n",
       "  width: min-content;\n",
       "  min-width: 20ex;\n",
       "  max-width: 50ex;\n",
       "  color: var(--sklearn-color-text);\n",
       "  box-shadow: 2pt 2pt 4pt #999;\n",
       "  /* unfitted */\n",
       "  background: var(--sklearn-color-unfitted-level-0);\n",
       "  border: .5pt solid var(--sklearn-color-unfitted-level-3);\n",
       "}\n",
       "\n",
       ".sk-estimator-doc-link.fitted span {\n",
       "  /* fitted */\n",
       "  background: var(--sklearn-color-fitted-level-0);\n",
       "  border: var(--sklearn-color-fitted-level-3);\n",
       "}\n",
       "\n",
       ".sk-estimator-doc-link:hover span {\n",
       "  display: block;\n",
       "}\n",
       "\n",
       "/* \"?\"-specific style due to the `<a>` HTML tag */\n",
       "\n",
       "#sk-container-id-1 a.estimator_doc_link {\n",
       "  float: right;\n",
       "  font-size: 1rem;\n",
       "  line-height: 1em;\n",
       "  font-family: monospace;\n",
       "  background-color: var(--sklearn-color-background);\n",
       "  border-radius: 1rem;\n",
       "  height: 1rem;\n",
       "  width: 1rem;\n",
       "  text-decoration: none;\n",
       "  /* unfitted */\n",
       "  color: var(--sklearn-color-unfitted-level-1);\n",
       "  border: var(--sklearn-color-unfitted-level-1) 1pt solid;\n",
       "}\n",
       "\n",
       "#sk-container-id-1 a.estimator_doc_link.fitted {\n",
       "  /* fitted */\n",
       "  border: var(--sklearn-color-fitted-level-1) 1pt solid;\n",
       "  color: var(--sklearn-color-fitted-level-1);\n",
       "}\n",
       "\n",
       "/* On hover */\n",
       "#sk-container-id-1 a.estimator_doc_link:hover {\n",
       "  /* unfitted */\n",
       "  background-color: var(--sklearn-color-unfitted-level-3);\n",
       "  color: var(--sklearn-color-background);\n",
       "  text-decoration: none;\n",
       "}\n",
       "\n",
       "#sk-container-id-1 a.estimator_doc_link.fitted:hover {\n",
       "  /* fitted */\n",
       "  background-color: var(--sklearn-color-fitted-level-3);\n",
       "}\n",
       "</style><div id=\"sk-container-id-1\" class=\"sk-top-container\"><div class=\"sk-text-repr-fallback\"><pre>LogisticRegression()</pre><b>In a Jupyter environment, please rerun this cell to show the HTML representation or trust the notebook. <br />On GitHub, the HTML representation is unable to render, please try loading this page with nbviewer.org.</b></div><div class=\"sk-container\" hidden><div class=\"sk-item\"><div class=\"sk-estimator fitted sk-toggleable\"><input class=\"sk-toggleable__control sk-hidden--visually\" id=\"sk-estimator-id-1\" type=\"checkbox\" checked><label for=\"sk-estimator-id-1\" class=\"sk-toggleable__label fitted sk-toggleable__label-arrow fitted\">&nbsp;&nbsp;LogisticRegression<a class=\"sk-estimator-doc-link fitted\" rel=\"noreferrer\" target=\"_blank\" href=\"https://scikit-learn.org/1.4/modules/generated/sklearn.linear_model.LogisticRegression.html\">?<span>Documentation for LogisticRegression</span></a><span class=\"sk-estimator-doc-link fitted\">i<span>Fitted</span></span></label><div class=\"sk-toggleable__content fitted\"><pre>LogisticRegression()</pre></div> </div></div></div></div>"
      ],
      "text/plain": [
       "LogisticRegression()"
      ]
     },
     "execution_count": 50,
     "metadata": {},
     "output_type": "execute_result"
    }
   ],
   "source": [
    "from sklearn.linear_model import LogisticRegression\n",
    "model = LogisticRegression()\n",
    "model.fit(X_train_scaled,y_train)"
   ]
  },
  {
   "cell_type": "markdown",
   "metadata": {
    "id": "XgiHkJ_otu5A"
   },
   "source": [
    "## Model Evaluation\n",
    "\n",
    "Score your fitted model on your **test dataset**."
   ]
  },
  {
   "cell_type": "code",
   "execution_count": 52,
   "metadata": {
    "ExecuteTime": {
     "end_time": "2024-02-20T00:45:44.577633Z",
     "start_time": "2024-02-20T00:45:44.565498Z"
    },
    "id": "gY6hNi1ApqT4"
   },
   "outputs": [
    {
     "name": "stdout",
     "output_type": "stream",
     "text": [
      "Model accuracy on test set is:0.7150837988826816\n"
     ]
    }
   ],
   "source": [
    "score = model.score(X_test_scaled,y_test)\n",
    "print(f\"Model accuracy on test set is:{score}\")"
   ]
  },
  {
   "cell_type": "markdown",
   "metadata": {
    "id": "t3FUFnc_u-HN"
   },
   "source": [
    "How can we interpret this 71% score ?\n",
    "\n",
    "<details>\n",
    "<summary>Answer 💡</summary>\n",
    "\n",
    "The default scoring metric for a **Logistic Regression** model is called the `accuracy`. \\\n",
    "It basically means that when running predictions on our test set, 71% of the returned values would be correctly predicted. You will get more information on the scoring metrics on future lectures.\n",
    "\n",
    "</details>"
   ]
  },
  {
   "cell_type": "markdown",
   "metadata": {
    "id": "iqgNhFy8uCMp"
   },
   "source": [
    "## Prediction\n",
    "\n",
    "\n",
    "We've found records of a passenger that weren't in the original dataset!\n",
    "\n",
    "Use the model we've just created to predict whether they would have survived or not!\n"
   ]
  },
  {
   "cell_type": "markdown",
   "metadata": {
    "id": "7xQ6xMnomdew"
   },
   "source": [
    "<details>\n",
    "    <summary>Hint 🔍</summary>\n",
    "    \n",
    "Don't forget to normalize the data, but don't fit your scaler on this new data, just transform it (otherwise, you're causing **data leakage**).\n",
    "    \n",
    "     \n",
    "</details>"
   ]
  },
  {
   "cell_type": "code",
   "execution_count": 56,
   "metadata": {
    "ExecuteTime": {
     "end_time": "2024-02-20T00:45:34.422189Z",
     "start_time": "2024-02-20T00:45:34.407126Z"
    },
    "colab": {
     "base_uri": "https://localhost:8080/",
     "height": 80
    },
    "executionInfo": {
     "elapsed": 353,
     "status": "ok",
     "timestamp": 1708601983766,
     "user": {
      "displayName": "Evangelina De Luca",
      "userId": "14686827559106754906"
     },
     "user_tz": -60
    },
    "id": "slgAHUeeutQY",
    "outputId": "4395db63-696c-4c0e-f3a8-08a8451237e9"
   },
   "outputs": [
    {
     "data": {
      "text/html": [
       "<div>\n",
       "<style scoped>\n",
       "    .dataframe tbody tr th:only-of-type {\n",
       "        vertical-align: middle;\n",
       "    }\n",
       "\n",
       "    .dataframe tbody tr th {\n",
       "        vertical-align: top;\n",
       "    }\n",
       "\n",
       "    .dataframe thead th {\n",
       "        text-align: right;\n",
       "    }\n",
       "</style>\n",
       "<table border=\"1\" class=\"dataframe\">\n",
       "  <thead>\n",
       "    <tr style=\"text-align: right;\">\n",
       "      <th></th>\n",
       "      <th>Pclass</th>\n",
       "      <th>SibSp</th>\n",
       "      <th>Parch</th>\n",
       "      <th>Fare</th>\n",
       "    </tr>\n",
       "  </thead>\n",
       "  <tbody>\n",
       "    <tr>\n",
       "      <th>0</th>\n",
       "      <td>1</td>\n",
       "      <td>0</td>\n",
       "      <td>1</td>\n",
       "      <td>65</td>\n",
       "    </tr>\n",
       "  </tbody>\n",
       "</table>\n",
       "</div>"
      ],
      "text/plain": [
       "   Pclass  SibSp  Parch  Fare\n",
       "0       1      0      1    65"
      ]
     },
     "execution_count": 56,
     "metadata": {},
     "output_type": "execute_result"
    }
   ],
   "source": [
    "new_record = pd.DataFrame({\"Pclass\" : [1], \"SibSp\" : [0], \"Parch\" : [1], \"Fare\" : [65]})\n",
    "new_record"
   ]
  },
  {
   "cell_type": "code",
   "execution_count": 58,
   "metadata": {
    "ExecuteTime": {
     "end_time": "2024-02-20T00:46:46.841001Z",
     "start_time": "2024-02-20T00:46:46.812810Z"
    },
    "id": "xx3EmrsvuXcT"
   },
   "outputs": [
    {
     "name": "stdout",
     "output_type": "stream",
     "text": [
      "predicted survivingrate for above new passenger is:1\n"
     ]
    },
    {
     "name": "stderr",
     "output_type": "stream",
     "text": [
      "C:\\Users\\dell\\anaconda3\\Lib\\site-packages\\sklearn\\base.py:486: UserWarning: X has feature names, but LogisticRegression was fitted without feature names\n",
      "  warnings.warn(\n"
     ]
    }
   ],
   "source": [
    "from sklearn.preprocessing import StandardScaler\n",
    "new_record_scaled = Scaler.transform(new_record)\n",
    "\n",
    "predicted_rating= model.predict(new_record_scaled)\n",
    "print(f\"predicted survivingrate for above new passenger is:{predicted_rating[0]}\")"
   ]
  },
  {
   "cell_type": "markdown",
   "metadata": {
    "id": "bfp-C63-u863"
   },
   "source": [
    "How do you interpret the result?\n"
   ]
  },
  {
   "cell_type": "markdown",
   "metadata": {
    "id": "gO-dlSwimdex"
   },
   "source": [
    "> **Your answer here (Double Click)**"
   ]
  },
  {
   "cell_type": "markdown",
   "metadata": {
    "id": "hIWKq_4Dmdex"
   },
   "source": [
    "**Congratulations on training your first classification model!** 🎉\n"
   ]
  }
 ],
 "metadata": {
  "colab": {
   "provenance": []
  },
  "kernelspec": {
   "display_name": "Python 3 (ipykernel)",
   "language": "python",
   "name": "python3"
  },
  "language_info": {
   "codemirror_mode": {
    "name": "ipython",
    "version": 3
   },
   "file_extension": ".py",
   "mimetype": "text/x-python",
   "name": "python",
   "nbconvert_exporter": "python",
   "pygments_lexer": "ipython3",
   "version": "3.12.3"
  },
  "toc": {
   "base_numbering": 1,
   "nav_menu": {},
   "number_sections": true,
   "sideBar": true,
   "skip_h1_title": false,
   "title_cell": "Table of Contents",
   "title_sidebar": "Contents",
   "toc_cell": false,
   "toc_position": {},
   "toc_section_display": true,
   "toc_window_display": false
  }
 },
 "nbformat": 4,
 "nbformat_minor": 4
}
